{
 "cells": [
  {
   "cell_type": "code",
   "execution_count": 1,
   "id": "d5d3e8cc",
   "metadata": {},
   "outputs": [
    {
     "name": "stderr",
     "output_type": "stream",
     "text": [
      "2022-11-14 18:00:43.923255: I tensorflow/core/util/util.cc:169] oneDNN custom operations are on. You may see slightly different numerical results due to floating-point round-off errors from different computation orders. To turn them off, set the environment variable `TF_ENABLE_ONEDNN_OPTS=0`.\n"
     ]
    }
   ],
   "source": [
    "import tensorflow as tf\n",
    "from tensorflow import keras\n",
    "from keras.models import Sequential\n",
    "from keras.layers import Dense, Dropout, Conv2D, MaxPool2D, Flatten\n",
    "from keras.utils import np_utils\n",
    "import numpy as np\n",
    "import matplotlib.pyplot as plt\n",
    "\n",
    "%matplotlib inline"
   ]
  },
  {
   "cell_type": "code",
   "execution_count": 2,
   "id": "6775ddfc",
   "metadata": {},
   "outputs": [],
   "source": [
    "def make_model():\n",
    "    # build a linear stack of layers with the sequential model\n",
    "    model = Sequential()\n",
    "    \n",
    "    # convolutional layer\n",
    "    model.add(Conv2D(32, kernel_size=(3,3), activation='relu', input_shape=(150, 150, 3)))\n",
    "    model.add(MaxPool2D(pool_size=(2,2)))\n",
    "    \n",
    "    # create vector representation\n",
    "    model.add(Flatten())\n",
    "    \n",
    "    # Dense layer\n",
    "    model.add(Dense(64, activation='relu'))\n",
    "    \n",
    "    # output layer\n",
    "    model.add(Dense(1, activation='sigmoid'))\n",
    "    \n",
    "    optimizer = keras.optimizers.SGD(learning_rate=0.002, momentum=0.8)\n",
    "    \n",
    "    model.compile(\n",
    "        optimizer=optimizer,\n",
    "        loss = 'binary_crossentropy',\n",
    "        metrics=['accuracy']        \n",
    "    )\n",
    "    return model\n",
    "    "
   ]
  },
  {
   "cell_type": "code",
   "execution_count": 3,
   "id": "169f0fa3",
   "metadata": {},
   "outputs": [
    {
     "name": "stdout",
     "output_type": "stream",
     "text": [
      "Model: \"sequential\"\n",
      "_________________________________________________________________\n",
      " Layer (type)                Output Shape              Param #   \n",
      "=================================================================\n",
      " conv2d (Conv2D)             (None, 148, 148, 32)      896       \n",
      "                                                                 \n",
      " max_pooling2d (MaxPooling2D  (None, 74, 74, 32)       0         \n",
      " )                                                               \n",
      "                                                                 \n",
      " flatten (Flatten)           (None, 175232)            0         \n",
      "                                                                 \n",
      " dense (Dense)               (None, 64)                11214912  \n",
      "                                                                 \n",
      " dense_1 (Dense)             (None, 1)                 65        \n",
      "                                                                 \n",
      "=================================================================\n",
      "Total params: 11,215,873\n",
      "Trainable params: 11,215,873\n",
      "Non-trainable params: 0\n",
      "_________________________________________________________________\n"
     ]
    },
    {
     "name": "stderr",
     "output_type": "stream",
     "text": [
      "2022-11-14 18:00:51.540467: I tensorflow/stream_executor/cuda/cuda_gpu_executor.cc:975] successful NUMA node read from SysFS had negative value (-1), but there must be at least one NUMA node, so returning NUMA node zero\n",
      "2022-11-14 18:00:51.601281: I tensorflow/stream_executor/cuda/cuda_gpu_executor.cc:975] successful NUMA node read from SysFS had negative value (-1), but there must be at least one NUMA node, so returning NUMA node zero\n",
      "2022-11-14 18:00:51.602009: I tensorflow/stream_executor/cuda/cuda_gpu_executor.cc:975] successful NUMA node read from SysFS had negative value (-1), but there must be at least one NUMA node, so returning NUMA node zero\n",
      "2022-11-14 18:00:51.603019: I tensorflow/core/platform/cpu_feature_guard.cc:193] This TensorFlow binary is optimized with oneAPI Deep Neural Network Library (oneDNN) to use the following CPU instructions in performance-critical operations:  AVX2 AVX512F AVX512_VNNI FMA\n",
      "To enable them in other operations, rebuild TensorFlow with the appropriate compiler flags.\n",
      "2022-11-14 18:00:51.603403: I tensorflow/stream_executor/cuda/cuda_gpu_executor.cc:975] successful NUMA node read from SysFS had negative value (-1), but there must be at least one NUMA node, so returning NUMA node zero\n",
      "2022-11-14 18:00:51.604019: I tensorflow/stream_executor/cuda/cuda_gpu_executor.cc:975] successful NUMA node read from SysFS had negative value (-1), but there must be at least one NUMA node, so returning NUMA node zero\n",
      "2022-11-14 18:00:51.604576: I tensorflow/stream_executor/cuda/cuda_gpu_executor.cc:975] successful NUMA node read from SysFS had negative value (-1), but there must be at least one NUMA node, so returning NUMA node zero\n",
      "2022-11-14 18:00:52.291158: I tensorflow/stream_executor/cuda/cuda_gpu_executor.cc:975] successful NUMA node read from SysFS had negative value (-1), but there must be at least one NUMA node, so returning NUMA node zero\n",
      "2022-11-14 18:00:52.291838: I tensorflow/stream_executor/cuda/cuda_gpu_executor.cc:975] successful NUMA node read from SysFS had negative value (-1), but there must be at least one NUMA node, so returning NUMA node zero\n",
      "2022-11-14 18:00:52.292398: I tensorflow/stream_executor/cuda/cuda_gpu_executor.cc:975] successful NUMA node read from SysFS had negative value (-1), but there must be at least one NUMA node, so returning NUMA node zero\n",
      "2022-11-14 18:00:52.292920: I tensorflow/core/common_runtime/gpu/gpu_device.cc:1532] Created device /job:localhost/replica:0/task:0/device:GPU:0 with 13795 MB memory:  -> device: 0, name: Tesla T4, pci bus id: 0000:00:1e.0, compute capability: 7.5\n"
     ]
    }
   ],
   "source": [
    "model = make_model()\n",
    "model.summary()"
   ]
  },
  {
   "cell_type": "markdown",
   "id": "92ecd734",
   "metadata": {},
   "source": [
    "# Generators and Training"
   ]
  },
  {
   "cell_type": "code",
   "execution_count": 26,
   "id": "5926055e",
   "metadata": {},
   "outputs": [],
   "source": [
    "from tensorflow.keras.preprocessing.image import ImageDataGenerator"
   ]
  },
  {
   "cell_type": "code",
   "execution_count": 27,
   "id": "db249a90",
   "metadata": {},
   "outputs": [
    {
     "name": "stdout",
     "output_type": "stream",
     "text": [
      "Found 1594 images belonging to 2 classes.\n"
     ]
    }
   ],
   "source": [
    "train_gen = ImageDataGenerator(rescale=1./255)\n",
    "\n",
    "train_ds = train_gen.flow_from_directory(\n",
    "    './train',\n",
    "    shuffle=True,\n",
    "    target_size=(150, 150),\n",
    "    batch_size=20,\n",
    "    class_mode='binary'\n",
    ")\n",
    "\n"
   ]
  },
  {
   "cell_type": "code",
   "execution_count": 28,
   "id": "6cfe77ec",
   "metadata": {},
   "outputs": [
    {
     "name": "stdout",
     "output_type": "stream",
     "text": [
      "Found 394 images belonging to 2 classes.\n"
     ]
    }
   ],
   "source": [
    "val_gen = ImageDataGenerator()\n",
    "\n",
    "val_ds = val_gen.flow_from_directory(\n",
    "    './test',\n",
    "    target_size=(150, 150),\n",
    "    batch_size=20,\n",
    "    shuffle=True,\n",
    "    class_mode='binary'\n",
    ")"
   ]
  },
  {
   "cell_type": "code",
   "execution_count": 29,
   "id": "7eec7236",
   "metadata": {},
   "outputs": [
    {
     "name": "stdout",
     "output_type": "stream",
     "text": [
      "Epoch 1/10\n",
      "80/80 [==============================] - 9s 106ms/step - loss: 0.6935 - accuracy: 0.5640 - val_loss: 2.4297 - val_accuracy: 0.7843\n",
      "Epoch 2/10\n",
      "80/80 [==============================] - 8s 104ms/step - loss: 0.6363 - accuracy: 0.6888 - val_loss: 10.2526 - val_accuracy: 0.8020\n",
      "Epoch 3/10\n",
      "80/80 [==============================] - 8s 104ms/step - loss: 0.5492 - accuracy: 0.7378 - val_loss: 18.9088 - val_accuracy: 0.8249\n",
      "Epoch 4/10\n",
      "80/80 [==============================] - 8s 105ms/step - loss: 0.4461 - accuracy: 0.8124 - val_loss: 31.6714 - val_accuracy: 0.8147\n",
      "Epoch 5/10\n",
      "80/80 [==============================] - 8s 104ms/step - loss: 0.3865 - accuracy: 0.8363 - val_loss: 48.6108 - val_accuracy: 0.7995\n",
      "Epoch 6/10\n",
      "80/80 [==============================] - 8s 104ms/step - loss: 0.3412 - accuracy: 0.8588 - val_loss: 56.4795 - val_accuracy: 0.7843\n",
      "Epoch 7/10\n",
      "80/80 [==============================] - 8s 104ms/step - loss: 0.3022 - accuracy: 0.8795 - val_loss: 65.7865 - val_accuracy: 0.7944\n",
      "Epoch 8/10\n",
      "80/80 [==============================] - 8s 104ms/step - loss: 0.2810 - accuracy: 0.8902 - val_loss: 38.7384 - val_accuracy: 0.8426\n",
      "Epoch 9/10\n",
      "80/80 [==============================] - 8s 103ms/step - loss: 0.2535 - accuracy: 0.9053 - val_loss: 36.2709 - val_accuracy: 0.8579\n",
      "Epoch 10/10\n",
      "80/80 [==============================] - 8s 104ms/step - loss: 0.2303 - accuracy: 0.9122 - val_loss: 39.4991 - val_accuracy: 0.8579\n"
     ]
    }
   ],
   "source": [
    "model = make_model()\n",
    "history = model.fit(\n",
    "    train_ds,\n",
    "    epochs=10,\n",
    "    validation_data=val_ds\n",
    ")\n"
   ]
  },
  {
   "cell_type": "code",
   "execution_count": 30,
   "id": "864bf2eb",
   "metadata": {},
   "outputs": [
    {
     "data": {
      "text/plain": [
       "[0.5639899373054504,\n",
       " 0.6888331174850464,\n",
       " 0.7377666234970093,\n",
       " 0.8124215602874756,\n",
       " 0.836260974407196,\n",
       " 0.8588456511497498,\n",
       " 0.8795483112335205,\n",
       " 0.8902133107185364,\n",
       " 0.9052697420120239,\n",
       " 0.9121706485748291]"
      ]
     },
     "execution_count": 30,
     "metadata": {},
     "output_type": "execute_result"
    }
   ],
   "source": [
    "train_accuracy = history.history['accuracy']\n",
    "train_accuracy"
   ]
  },
  {
   "cell_type": "code",
   "execution_count": 31,
   "id": "66682be6",
   "metadata": {},
   "outputs": [
    {
     "data": {
      "text/plain": [
       "'The median of training accuracy is 0.8475533127784729'"
      ]
     },
     "execution_count": 31,
     "metadata": {},
     "output_type": "execute_result"
    }
   ],
   "source": [
    "f'The median of training accuracy is {np.median(train_accuracy)}'"
   ]
  },
  {
   "cell_type": "code",
   "execution_count": 32,
   "id": "aa12edc8",
   "metadata": {},
   "outputs": [
    {
     "data": {
      "text/plain": [
       "[0.6934776902198792,\n",
       " 0.6363464593887329,\n",
       " 0.5492286682128906,\n",
       " 0.44614550471305847,\n",
       " 0.38646936416625977,\n",
       " 0.34116634726524353,\n",
       " 0.30221861600875854,\n",
       " 0.28103455901145935,\n",
       " 0.2534793019294739,\n",
       " 0.2302703857421875]"
      ]
     },
     "execution_count": 32,
     "metadata": {},
     "output_type": "execute_result"
    }
   ],
   "source": [
    "training_loss = history.history['loss']\n",
    "training_loss"
   ]
  },
  {
   "cell_type": "code",
   "execution_count": 33,
   "id": "306b0c2b",
   "metadata": {},
   "outputs": [
    {
     "data": {
      "text/plain": [
       "'The standard deviation of training loss is 0.155751798477045'"
      ]
     },
     "execution_count": 33,
     "metadata": {},
     "output_type": "execute_result"
    }
   ],
   "source": [
    "f'The standard deviation of training loss is {np.std(training_loss)}'"
   ]
  },
  {
   "cell_type": "markdown",
   "id": "155cbfeb",
   "metadata": {},
   "source": [
    "# Data Augmentation"
   ]
  },
  {
   "cell_type": "code",
   "execution_count": 34,
   "id": "e668d3ec",
   "metadata": {},
   "outputs": [
    {
     "name": "stdout",
     "output_type": "stream",
     "text": [
      "Found 1594 images belonging to 2 classes.\n"
     ]
    }
   ],
   "source": [
    "train_gen = ImageDataGenerator(\n",
    "    rescale=1./255, \n",
    "    rotation_range=40,\n",
    "    width_shift_range=0.2,\n",
    "    height_shift_range=0.2,\n",
    "    shear_range=0.2,\n",
    "    zoom_range=0.2,\n",
    "    horizontal_flip=True,\n",
    "    fill_mode='nearest')\n",
    "\n",
    "train_ds = train_gen.flow_from_directory(\n",
    "    './train',\n",
    "    shuffle=True,\n",
    "    target_size=(150, 150),\n",
    "    batch_size=20,\n",
    "    class_mode='binary'\n",
    ")\n"
   ]
  },
  {
   "cell_type": "code",
   "execution_count": 35,
   "id": "fa8c2576",
   "metadata": {},
   "outputs": [
    {
     "name": "stdout",
     "output_type": "stream",
     "text": [
      "Epoch 1/10\n",
      "80/80 [==============================] - 15s 187ms/step - loss: 0.4441 - accuracy: 0.7823 - val_loss: 42.4520 - val_accuracy: 0.8325\n",
      "Epoch 2/10\n",
      "80/80 [==============================] - 15s 188ms/step - loss: 0.4244 - accuracy: 0.8099 - val_loss: 32.1044 - val_accuracy: 0.8731\n",
      "Epoch 3/10\n",
      "80/80 [==============================] - 15s 188ms/step - loss: 0.4048 - accuracy: 0.8149 - val_loss: 40.1581 - val_accuracy: 0.8706\n",
      "Epoch 4/10\n",
      "80/80 [==============================] - 15s 190ms/step - loss: 0.4006 - accuracy: 0.8137 - val_loss: 50.8277 - val_accuracy: 0.8249\n",
      "Epoch 5/10\n",
      "80/80 [==============================] - 15s 190ms/step - loss: 0.4126 - accuracy: 0.8124 - val_loss: 44.0264 - val_accuracy: 0.8604\n",
      "Epoch 6/10\n",
      "80/80 [==============================] - 15s 189ms/step - loss: 0.3950 - accuracy: 0.8262 - val_loss: 80.0659 - val_accuracy: 0.7817\n",
      "Epoch 7/10\n",
      "80/80 [==============================] - 15s 188ms/step - loss: 0.3832 - accuracy: 0.8275 - val_loss: 48.0661 - val_accuracy: 0.8655\n",
      "Epoch 8/10\n",
      "80/80 [==============================] - 15s 189ms/step - loss: 0.3844 - accuracy: 0.8319 - val_loss: 36.8688 - val_accuracy: 0.8756\n",
      "Epoch 9/10\n",
      "80/80 [==============================] - 15s 189ms/step - loss: 0.3861 - accuracy: 0.8312 - val_loss: 116.0556 - val_accuracy: 0.7183\n",
      "Epoch 10/10\n",
      "80/80 [==============================] - 15s 187ms/step - loss: 0.3682 - accuracy: 0.8425 - val_loss: 52.7547 - val_accuracy: 0.8477\n"
     ]
    }
   ],
   "source": [
    "#model = make_model()\n",
    "history = model.fit(\n",
    "    train_ds,\n",
    "    epochs=10,\n",
    "    validation_data=val_ds\n",
    ")\n"
   ]
  },
  {
   "cell_type": "code",
   "execution_count": 36,
   "id": "b34e32f1",
   "metadata": {},
   "outputs": [
    {
     "data": {
      "text/plain": [
       "[42.452049255371094,\n",
       " 32.10435485839844,\n",
       " 40.158138275146484,\n",
       " 50.82770919799805,\n",
       " 44.02640151977539,\n",
       " 80.06588745117188,\n",
       " 48.06614303588867,\n",
       " 36.86880874633789,\n",
       " 116.05555725097656,\n",
       " 52.7546501159668]"
      ]
     },
     "execution_count": 36,
     "metadata": {},
     "output_type": "execute_result"
    }
   ],
   "source": [
    "val_loss = history.history['val_loss']\n",
    "val_loss"
   ]
  },
  {
   "cell_type": "code",
   "execution_count": 38,
   "id": "cad57dc7",
   "metadata": {},
   "outputs": [
    {
     "data": {
      "text/plain": [
       "'The mean of validation loss is 54.33796997070313'"
      ]
     },
     "execution_count": 38,
     "metadata": {},
     "output_type": "execute_result"
    }
   ],
   "source": [
    "f'The mean of validation loss is {np.mean(val_loss)}'"
   ]
  },
  {
   "cell_type": "code",
   "execution_count": 39,
   "id": "2f9afc02",
   "metadata": {},
   "outputs": [
    {
     "data": {
      "text/plain": [
       "[0.7817258834838867,\n",
       " 0.8654822111129761,\n",
       " 0.875634491443634,\n",
       " 0.7182741165161133,\n",
       " 0.8477157354354858]"
      ]
     },
     "execution_count": 39,
     "metadata": {},
     "output_type": "execute_result"
    }
   ],
   "source": [
    "val_accuracy = history.history['val_accuracy'][5:]\n",
    "val_accuracy"
   ]
  },
  {
   "cell_type": "code",
   "execution_count": 40,
   "id": "33d17c18",
   "metadata": {},
   "outputs": [
    {
     "data": {
      "text/plain": [
       "'The mean of validation accuracy for the last 5 epochs is 0.8177664875984192'"
      ]
     },
     "execution_count": 40,
     "metadata": {},
     "output_type": "execute_result"
    }
   ],
   "source": [
    "f'The mean of validation accuracy for the last 5 epochs is {np.mean(val_accuracy)}'"
   ]
  }
 ],
 "metadata": {
  "kernelspec": {
   "display_name": "saturn (Python 3)",
   "language": "python",
   "name": "python3"
  },
  "language_info": {
   "codemirror_mode": {
    "name": "ipython",
    "version": 3
   },
   "file_extension": ".py",
   "mimetype": "text/x-python",
   "name": "python",
   "nbconvert_exporter": "python",
   "pygments_lexer": "ipython3",
   "version": "3.9.13"
  }
 },
 "nbformat": 4,
 "nbformat_minor": 5
}
